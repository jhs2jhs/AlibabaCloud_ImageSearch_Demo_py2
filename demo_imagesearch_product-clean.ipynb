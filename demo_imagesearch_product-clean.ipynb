{
 "cells": [
  {
   "cell_type": "markdown",
   "metadata": {},
   "source": [
    "# This demo shows how to do a general search for similar images\n",
    "\n",
    "This demo is setup using python3\n",
    "\n",
    "Follow up more information on product webpage: https://help.aliyun.com/document_detail/113827.html\n",
    "\n",
    "## flow:\n",
    "1. imagesearch_product to get product category (my_image_search with instanceName_Product)\n",
    "2. imagesearch_general to upload images with detected category\n",
    "3. imagesearch_general to find similar images (my_image_search with instanceName_General)"
   ]
  },
  {
   "cell_type": "code",
   "execution_count": null,
   "metadata": {},
   "outputs": [],
   "source": [
    "#setup envionrmnet for python depedency if necessary\n",
    "! pip3 install aliyun-python-sdk-imagesearch #--upgrade \n",
    "! pip3 install pillow #--upgrade "
   ]
  },
  {
   "cell_type": "markdown",
   "metadata": {},
   "source": [
    "# Get access credential from environemnt setting"
   ]
  },
  {
   "cell_type": "code",
   "execution_count": null,
   "metadata": {},
   "outputs": [],
   "source": [
    "import os\n",
    "accessKeyId = os.environ.get('accessKeyId', 'not_set')\n",
    "accessKeySecret = os.environ.get('accessKeySecret', 'not_set')\n",
    "instanceName_Product = os.environ.get('instanceName_Product', 'not_set')\n",
    "instanceName_General = os.environ.get('instanceName_General', 'not_set')\n",
    "\n",
    "print(instanceName_Product, instanceName_General)"
   ]
  },
  {
   "cell_type": "code",
   "execution_count": null,
   "metadata": {},
   "outputs": [],
   "source": [
    "# setup image search connection\n",
    "product = \"ImageSearch\"\n",
    "region = 'cn-shanghai' # , ap-southeast-1(sg)\n",
    "\n",
    "domain = 'imagesearch.cn-shanghai.aliyuncs.com' # \n",
    "endpoint = 'imagesearch.cn-shanghai.aliyuncs.com' # \n",
    "\n",
    "from aliyunsdkcore.profile import region_provider\n",
    "from aliyunsdkcore.client import AcsClient\n",
    "region_provider.add_endpoint(product, region, domain)\n",
    "client  = AcsClient(accessKeyId, accessKeySecret, region)\n",
    "requestClient = client"
   ]
  },
  {
   "cell_type": "markdown",
   "metadata": {},
   "source": [
    "# Load supporting function"
   ]
  },
  {
   "cell_type": "code",
   "execution_count": null,
   "metadata": {},
   "outputs": [],
   "source": [
    "%load_ext autoreload\n",
    "%autoreload 2\n",
    "from myutil import *"
   ]
  },
  {
   "cell_type": "markdown",
   "metadata": {},
   "source": [
    "# Demo for single image upload and detect object category"
   ]
  },
  {
   "cell_type": "code",
   "execution_count": null,
   "metadata": {},
   "outputs": [],
   "source": [
    "image_name = '1.jpg' \n",
    "image_folder = './image' \n",
    "image_path = os.path.abspath(image_folder+'/'+image_name)\n",
    "\n",
    "print(\"image path:\", image_name, image_path)\n",
    "img1 = my_image_preview(image_path, '0,0,0,0', 'unknown category')\n",
    "img1"
   ]
  },
  {
   "cell_type": "code",
   "execution_count": null,
   "metadata": {},
   "outputs": [],
   "source": [
    "# test to upload a single image\n",
    "image_name = '1.jpg'\n",
    "image_path = os.path.abspath(image_folder+'/'+image_name)\n",
    "result = my_image_search_for_category_detection_display(requestClient, instanceName_Product, image_path)\n",
    "print(image_path)"
   ]
  },
  {
   "cell_type": "markdown",
   "metadata": {},
   "source": [
    "# Upload all images into imagesearch_General with detected category"
   ]
  },
  {
   "cell_type": "code",
   "execution_count": null,
   "metadata": {
    "scrolled": false
   },
   "outputs": [],
   "source": [
    "image_folder = './image' \n",
    "images = list_images(image_folder)\n",
    "#pprint(images)\n",
    "\n",
    "for image_path in images:\n",
    "    image_name = images[image_path]\n",
    "    #image_path = './image/1.jpg'\n",
    "    \n",
    "    r = my_image_search_for_category_detection(requestClient, instanceName_Product, image_path)\n",
    "    cate_id = r['cate_id']\n",
    "    cate_desc = r['cate_desc']\n",
    "    obj_region = r['obj_region']\n",
    "    r = my_image_upload_for_similarity_search(requestClient, endpoint, instanceName_General, image_name, image_name, image_path, cate_id, cate_desc, obj_region)\n",
    "    \n",
    "    time.sleep(1)"
   ]
  },
  {
   "cell_type": "markdown",
   "metadata": {},
   "source": [
    "# Search similar images"
   ]
  },
  {
   "cell_type": "code",
   "execution_count": null,
   "metadata": {},
   "outputs": [],
   "source": [
    "#result = my_image_search_for_similarity(requestClient, instanceName_General, './image/1.jpg')\n"
   ]
  },
  {
   "cell_type": "code",
   "execution_count": null,
   "metadata": {
    "scrolled": false
   },
   "outputs": [],
   "source": [
    "image_folder = './image' \n",
    "images = list_images(image_folder)\n",
    "#pprint(images)\n",
    "\n",
    "for image_path in images:\n",
    "    image_name = images[image_path]\n",
    "    r = my_image_search_for_similarity(requestClient, instanceName_General, image_path)   \n",
    "    time.sleep(1)"
   ]
  },
  {
   "cell_type": "markdown",
   "metadata": {},
   "source": [
    "# Delete all images being uploaded"
   ]
  },
  {
   "cell_type": "code",
   "execution_count": null,
   "metadata": {},
   "outputs": [],
   "source": [
    "image_folder = './image' \n",
    "images = list_images(image_folder)\n",
    "#pprint(images)\n",
    "\n",
    "for image_path in images:\n",
    "    image_name = images[image_path]\n",
    "    request = DeleteImageRequest.DeleteImageRequest()\n",
    "    request.set_endpoint(endpoint)\n",
    "    request.set_InstanceName(instanceName_Product)\n",
    "    request.set_ProductId(image_name)\n",
    "    response = client.do_action_with_exception(request)\n",
    "    print(image_name)\n",
    "    print(json.loads(response))\n",
    "    time.sleep(1)"
   ]
  }
 ],
 "metadata": {
  "kernelspec": {
   "display_name": "Python 3",
   "language": "python",
   "name": "python3"
  },
  "language_info": {
   "codemirror_mode": {
    "name": "ipython",
    "version": 3
   },
   "file_extension": ".py",
   "mimetype": "text/x-python",
   "name": "python",
   "nbconvert_exporter": "python",
   "pygments_lexer": "ipython3",
   "version": "3.7.3"
  }
 },
 "nbformat": 4,
 "nbformat_minor": 2
}
